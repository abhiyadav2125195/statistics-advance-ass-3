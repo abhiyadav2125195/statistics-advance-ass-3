{
 "cells": [
  {
   "cell_type": "markdown",
   "id": "1c4c06a5-dee7-467b-94e5-0aeabf9dd5f0",
   "metadata": {},
   "source": [
    "# Q1: What is Estimation Statistics? Explain point estimate and interval estimate."
   ]
  },
  {
   "cell_type": "markdown",
   "id": "8c28cf6e-d7c8-4c2c-b1f4-c4c3cb7e9f57",
   "metadata": {},
   "source": [
    "Estimation in Statistics:\n",
    "Estimation in statistics refers to the process of using sample data to make educated guesses or inferences about population parameters (such as means, proportions, variances, etc.) when the entire population cannot be measured or observed directly. Estimation involves using the information gathered from a sample to estimate the true, unknown values of population parameters.\n",
    "\n",
    "There are two main types of estimation in statistics: point estimation and interval estimation.\n",
    "\n",
    "Point Estimate:\n",
    "A point estimate is a single value that is calculated from sample data and is used to estimate an unknown population parameter. It provides a single \"best guess\" of the parameter's value based on the available sample information. However, a point estimate does not provide information about the uncertainty associated with the estimate.\n",
    "\n",
    "For example, if you want to estimate the average height of students in a university, you might take a sample of students and calculate the sample mean height. The calculated sample mean would be a point estimate of the population mean height.\n",
    "\n",
    "Interval Estimate:\n",
    "An interval estimate, also known as a confidence interval, provides a range of values within which the true population parameter is believed to lie with a certain level of confidence. It accounts for the inherent uncertainty in estimation by providing a range of values rather than a single point. The confidence interval indicates the degree of uncertainty associated with the estimate."
   ]
  },
  {
   "cell_type": "markdown",
   "id": "94f73577-02c3-45c7-a029-9bd31483881a",
   "metadata": {},
   "source": [
    "# Q2. Write a Python function to estimate the population mean using a sample mean and standard deviation."
   ]
  },
  {
   "cell_type": "code",
   "execution_count": null,
   "id": "4a57cbbe-2b0f-4f47-b030-1e95e60c86fb",
   "metadata": {},
   "outputs": [],
   "source": []
  },
  {
   "cell_type": "markdown",
   "id": "15ed2786-dd25-4c1a-83e6-5860fbac27b9",
   "metadata": {},
   "source": [
    "# Q3: What is Hypothesis testing? Why is it used? State the importance of Hypothesis testing."
   ]
  },
  {
   "cell_type": "markdown",
   "id": "e8d8e637-ce20-49fa-910b-47a8ef738494",
   "metadata": {},
   "source": [
    "Hypothesis Testing:\n",
    "Hypothesis testing is a fundamental method in statistics that involves making decisions about population parameters based on sample data. It's a structured process for evaluating and testing claims, assertions, or hypotheses about a population using evidence from a sample. Hypothesis testing allows us to draw conclusions and make informed decisions about the validity of certain statements or assumptions.\n",
    "\n",
    "Importance of Hypothesis Testing:\n",
    "Hypothesis testing serves several important purposes in statistics and scientific research:\n",
    "\n",
    "Evidence-Based Decisions: Hypothesis testing provides a systematic approach to making decisions based on evidence from data. It helps determine whether a claim or hypothesis is supported by the available data or if there's a need for further investigation.\n",
    "\n",
    "Scientific Validity: In scientific research, hypotheses are formulated to test theories or explanations. Hypothesis testing allows researchers to validate or reject these hypotheses using empirical evidence.\n",
    "\n",
    "Statistical Significance: Hypothesis testing quantifies the level of statistical significance, which indicates whether observed differences or effects in the data are likely to have occurred due to random chance or if they represent genuine patterns.\n",
    "\n",
    "Comparison and Comparison: Hypothesis testing enables comparison between sample data and known or hypothesized population parameters. It helps determine if observed differences are statistically significant and if they are likely to generalize to the entire population."
   ]
  },
  {
   "cell_type": "markdown",
   "id": "fbc01bb0-b6a7-4f10-9c76-9b9fc3363c2e",
   "metadata": {},
   "source": [
    "# Q4. Create a hypothesis that states whether the average weight of male college students is greater than the average weight of female college students."
   ]
  },
  {
   "cell_type": "markdown",
   "id": "208b5c77-3663-4f89-bb64-d8f65c196570",
   "metadata": {},
   "source": [
    "Null Hypothesis (H0):\n",
    "The average weight of male college students is equal to or less than the average weight of female college students.\n",
    "H0: μ_male ≤ μ_female\n",
    "\n",
    "Alternative Hypothesis (Ha):\n",
    "The average weight of male college students is greater than the average weight of female college students.\n",
    "Ha: μ_male > μ_female\n",
    "\n",
    "In this case, the null hypothesis assumes that there is no significant difference in the average weights of male and female college students, while the alternative hypothesis suggests that the average weight of male students is greater than that of female students."
   ]
  },
  {
   "cell_type": "markdown",
   "id": "ab02bf8c-da53-4d67-8f26-bf28b05c9ada",
   "metadata": {},
   "source": [
    "# Q5. Write a Python script to conduct a hypothesis test on the difference between two population means, given a sample from each population."
   ]
  },
  {
   "cell_type": "code",
   "execution_count": null,
   "id": "79d703a6-6dc3-4543-8567-a7bb8eef1c0b",
   "metadata": {},
   "outputs": [],
   "source": []
  },
  {
   "cell_type": "markdown",
   "id": "cace2f44-b908-474c-9357-9594a55b1cf1",
   "metadata": {},
   "source": [
    "# Q6: What is a null and alternative hypothesis? Give some examples."
   ]
  },
  {
   "cell_type": "markdown",
   "id": "b6cab3f8-e9e4-4fde-8c81-aed6c808f358",
   "metadata": {},
   "source": [
    "Null Hypothesis (H0):\n",
    "The null hypothesis is a statement of no effect, no difference, or no relationship. It's often formulated as the default assumption to be tested against the available data. In hypothesis testing, the null hypothesis serves as the benchmark against which we evaluate the evidence from the sample.\n",
    "\n",
    "Examples of Null Hypotheses:\n",
    "\n",
    "Population Mean: H0: The average IQ score of students is 100.\n",
    "No Effect: H0: A new drug has no effect on reducing blood pressure.\n",
    "No Difference: H0: There is no difference in the sales performance between two marketing strategies.\n",
    "Equal Proportions: H0: The proportion of defective products is 0.05.\n",
    "Alternative Hypothesis (Ha):\n",
    "The alternative hypothesis is a statement that contradicts the null hypothesis and represents the hypothesis that researchers want to support or establish. It's formulated based on the research question and the expected relationship between variables.\n",
    "\n",
    "Examples of Alternative Hypotheses:\n",
    "\n",
    "Population Mean: Ha: The average IQ score of students is greater than 100.\n",
    "Effect: Ha: The new drug significantly reduces blood pressure.\n",
    "Difference: Ha: Strategy A leads to higher sales performance compared to Strategy B.\n",
    "Not Equal Proportions: Ha: The proportion of defective products is not 0.05."
   ]
  },
  {
   "cell_type": "markdown",
   "id": "1c99694c-d30c-4bcf-aad4-734ab71b7f34",
   "metadata": {},
   "source": [
    "# Q7: Write down the steps involved in hypothesis testing."
   ]
  },
  {
   "cell_type": "markdown",
   "id": "0a7a9e47-5232-4b1e-8fdc-86bf47de7ca6",
   "metadata": {},
   "source": [
    "\n",
    "Hypothesis testing involves a structured process to make informed decisions about population parameters based on sample data. Here are the general steps involved in hypothesis testing:\n",
    "\n",
    "1. Formulate the Hypotheses:\n",
    "\n",
    "State the null hypothesis (H0) and the alternative hypothesis (Ha) based on the research question and the expected relationship between variables.\n",
    "2. Set the Significance Level (α):\n",
    "\n",
    "Choose the significance level (α), which represents the probability of making a Type I error (rejecting a true null hypothesis). Common values for α include 0.05, 0.01, or 0.10.\n",
    "3. Collect and Analyze Data:\n",
    "\n",
    "Collect sample data relevant to the hypothesis being tested.\n",
    "Calculate relevant sample statistics (e.g., sample mean, sample standard deviation).\n",
    "4. Choose a Statistical Test:\n",
    "\n",
    "Select an appropriate statistical test based on the type of data, the research question, and the distributional assumptions. Common tests include t-tests, ANOVA, chi-squared tests, etc.\n",
    "5. Calculate Test Statistic:\n",
    "\n",
    "Compute the test statistic using the sample data. The test statistic measures the difference between the observed sample data and the values expected under the null hypothesis.\n",
    "6. Determine the Critical Region or P-value:\n",
    "\n",
    "Depending on the test chosen, determine the critical region in the distribution of the test statistic or calculate the p-value.\n",
    "The critical region is the range of values that would lead to rejecting the null hypothesis if the test statistic falls within it.\n",
    "The p-value is the probability of observing a test statistic as extreme as or more extreme than the one obtained, assuming the null hypothesis is true.\n",
    "7. Make a Decision:\n",
    "\n",
    "If using the critical region approach: Compare the test statistic to the critical values. If the test statistic falls in the critical region, reject the null hypothesis. If not, fail to reject the null hypothesis.\n",
    "If using the p-value approach: Compare the p-value to the chosen significance level (α). If p-value < α, reject the null hypothesis. If p-value ≥ α, fail to reject the null hypothesis.\n",
    "8. Draw Conclusions:\n",
    "\n",
    "Based on the decision made in the previous step, draw conclusions about the null hypothesis and the research question.\n",
    "If the null hypothesis is rejected, support the alternative hypothesis. If not, there isn't enough evidence to support the alternative hypothesis.\n"
   ]
  },
  {
   "cell_type": "markdown",
   "id": "c6c98623-225a-4a77-99e7-def8403c5c22",
   "metadata": {},
   "source": [
    "# Q8. Define p-value and explain its significance in hypothesis testing."
   ]
  },
  {
   "cell_type": "markdown",
   "id": "7acbc63c-f8b3-4a7e-8361-528c0a091874",
   "metadata": {},
   "source": [
    "The p-value, or probability value, is a fundamental concept in hypothesis testing. It quantifies the strength of evidence against the null hypothesis (H0) provided by the sample data. The p-value represents the probability of obtaining a test statistic as extreme as or more extreme than the one observed, assuming that the null hypothesis is true.\n",
    "\n",
    "Significance of the p-value:\n",
    "\n",
    "Decision Criterion: In hypothesis testing, the p-value is compared to the chosen significance level (α), also known as the level of significance or alpha level. If the p-value is less than or equal to α, it suggests that the observed sample data is unlikely under the null hypothesis. This leads to the rejection of the null hypothesis in favor of the alternative hypothesis.\n",
    "\n",
    "Strength of Evidence: A small p-value (typically below α) indicates strong evidence against the null hypothesis. It suggests that the observed data is inconsistent with the null hypothesis and supports the alternative hypothesis. Conversely, a large p-value suggests weak evidence against the null hypothesis.\n",
    "\n",
    "Quantification of Uncertainty: The p-value provides a measure of the uncertainty associated with the hypothesis test. A small p-value indicates that the observed sample data is unlikely to have occurred by random chance, while a large p-value suggests that the observed data could reasonably occur under the null hypothesis.\n",
    "\n",
    "Interpretation of Results: Researchers can use the p-value to interpret the results of a hypothesis test. If the p-value is very small, it suggests that the sample data provides strong evidence against the null hypothesis, leading to a conclusion in favor of the alternative hypothesis."
   ]
  },
  {
   "cell_type": "markdown",
   "id": "22077272-35af-4321-ba41-d0b895b50d2f",
   "metadata": {},
   "source": [
    "# Q9. Generate a Student's t-distribution plot using Python's matplotlib library, with the degrees of freedom parameter set to 10."
   ]
  },
  {
   "cell_type": "code",
   "execution_count": null,
   "id": "49909c42-7187-4d65-bca6-a11500fc3e40",
   "metadata": {},
   "outputs": [],
   "source": []
  },
  {
   "cell_type": "markdown",
   "id": "7a5b0181-e3a5-49f9-9f0e-28e1ad71ac83",
   "metadata": {},
   "source": [
    "# Q10. Write a Python program to calculate the two-sample t-test for independent samples, given two random samples of equal size and a null hypothesis that the population means are equal."
   ]
  },
  {
   "cell_type": "code",
   "execution_count": null,
   "id": "ac80bcd6-9407-42da-a07e-9fd68a5d6aa9",
   "metadata": {},
   "outputs": [],
   "source": []
  },
  {
   "cell_type": "markdown",
   "id": "e27e8459-c306-4fbc-8c98-7eab1c4f67cd",
   "metadata": {},
   "source": [
    "# Q11: What is Student’s t distribution? When to use the t-Distribution."
   ]
  },
  {
   "cell_type": "markdown",
   "id": "910fc77d-6de7-4cec-bb7a-08c52a29a3ec",
   "metadata": {},
   "source": [
    "The Student's t-distribution, often referred to simply as the t-distribution, is a probability distribution that is widely used in statistics. It is used to make inferences about the population mean when the sample size is small (typically when the sample size is less than 30) and when the population standard deviation is unknown.\n",
    "\n",
    "The t-distribution is similar in shape to the normal distribution but has heavier tails. As the sample size increases, the t-distribution approaches the normal distribution. The t-distribution is parameterized by a parameter called \"degrees of freedom\" (df), which affects the shape of the distribution.\n",
    "\n",
    "When to Use the t-Distribution:\n",
    "\n",
    "Small Sample Sizes: The t-distribution is especially useful when dealing with small sample sizes (typically less than 30). In such cases, the normal distribution assumption might not hold, and using the t-distribution provides more accurate results.\n",
    "\n",
    "Unknown Population Standard Deviation: When the population standard deviation is unknown and needs to be estimated from the sample, the t-distribution is used to account for the uncertainty introduced by the estimation process.\n",
    "\n",
    "Confidence Intervals: When calculating confidence intervals for the population mean based on a sample mean, the t-distribution is used. This accounts for the fact that the sample mean's distribution is less certain when the sample size is small.\n",
    "\n",
    "Hypothesis Testing: When conducting hypothesis tests involving the population mean, and the sample size is small and/or the population standard deviation is unknown, the t-distribution is used for calculating p-values and making decisions about the null hypothesis."
   ]
  },
  {
   "cell_type": "markdown",
   "id": "589de776-125b-4d4f-af5e-eb707ecc4883",
   "metadata": {},
   "source": [
    "# Q12: What is t-statistic? State the formula for t-statistic."
   ]
  },
  {
   "cell_type": "markdown",
   "id": "d55b9716-686c-415a-8ef3-b2fabb281bd8",
   "metadata": {},
   "source": [
    "The t-statistic is a crucial statistic used in hypothesis testing and confidence interval calculations when the sample size is small or when the population standard deviation is unknown. It measures how many standard errors the sample mean is away from the hypothesized population mean under the null hypothesis. The t-statistic is used to assess whether the observed difference between the sample mean and the hypothesized population mean is statistically significant.\n",
    "\n",
    "The formula for the t-statistic depends on the context in which it is used. Here are two common scenarios:\n",
    "\n",
    "For One-Sample t-Test:\n",
    "\n",
    "Suppose you have a sample of size n, a sample mean x̄, and a hypothesized population mean μ0. The formula for the t-statistic for a one-sample t-test is:\n",
    "\n",
    "t = (x̄ - μ0) / (s / √n)\n",
    "\n",
    "For Two-Sample t-Test (Independent Samples):\n",
    "\n",
    "Suppose you have two independent samples, each with its own sample mean (x̄1, x̄2) and sample standard deviation (s1, s2). The formula for the t-statistic for an independent two-sample t-test is:\n",
    "\n",
    "t = (x̄1 - x̄2) / √((s1² / n1) + (s2² / n2))"
   ]
  },
  {
   "cell_type": "markdown",
   "id": "bbf78129-9663-4217-a8f1-74e0284b3604",
   "metadata": {},
   "source": [
    "# Q13. A coffee shop owner wants to estimate the average daily revenue for their shop. They take a random sample of 50 days and find the sample mean revenue to be $500 with  a  standard  deviation of $50. Estimate the population mean revenue with a 95% confidence interval."
   ]
  },
  {
   "cell_type": "raw",
   "id": "c8373bc1-0146-47f0-9a4e-3bb82be433d9",
   "metadata": {},
   "source": [
    "n = 50 , m = 500 , std = 50\n",
    "ci = 95per , 1.960\n",
    "mean +- z s / root n \n",
    "500 +- 1.960 50/root 50\n",
    "513.8 to 486.14"
   ]
  },
  {
   "cell_type": "markdown",
   "id": "8245a1d7-4cda-4fa6-8338-bddbdf9fe4cb",
   "metadata": {},
   "source": [
    "# Q14. A researcher hypothesizes that a new drug will decrease blood pressure by 10 mmHg. They conduct a clinical trial with 100 patients and find that the sample mean decrease in blood pressure is 8 mmHg with a standard deviation of 3 mmHg. Test the hypothesis with a significance level of 0.05."
   ]
  },
  {
   "cell_type": "raw",
   "id": "bcc37bc6-4688-41aa-800a-2593b745d127",
   "metadata": {},
   "source": [
    "null hypothesis m = 10\n",
    "alternate hypthesis m =/ 10\n",
    "significance value  = 0.05 CI = 0.95\n",
    "degree of freedom = 100 - 1 = 99\n",
    "2.5 = 1.984\n",
    "8 - 10\n",
    "3/root 100 = 6.66\n",
    "conclusion t = 6.66 >1.984 so we reject th null hypothesis\n",
    "so mean is decrease by 8 mm\n",
    "\n"
   ]
  },
  {
   "cell_type": "markdown",
   "id": "e0a39d1e-9ae4-4092-a2f9-4049363d1494",
   "metadata": {},
   "source": [
    "# Q15. An electronics company produces a certain type of product with a mean weight of 5 pounds and a standard deviation of 0.5 pounds. A random sample of 25 products is taken, and the sample mean weight is found to be 4.8 pounds. Test the hypothesis that the true mean weight of the products is less than 5pounds with a significance level of 0.01."
   ]
  },
  {
   "cell_type": "raw",
   "id": "55d210e2-209e-4ebb-89de-0b2b5848ee51",
   "metadata": {},
   "source": [
    "Null Hypothesis (H0): The true mean weight (μ) is greater than or equal to 5 pounds.\n",
    "Alternative Hypothesis (Ha): The true mean weight (μ) is less than 5 pounds.\n",
    "m = 5 std = 0.5 n = 25 x = 40.8  sig = 0.01 \n",
    "degree of freedom 25 - 1 = 24\n",
    "0.01 t table value 3.467 one tail\n",
    "4.8 - 5 \n",
    "0.5/root 25 = 0.04\n",
    "conclusion t = 0.04 < 3.467 so we reject null hypothesis\n",
    "and true wait is less than 5 pound"
   ]
  },
  {
   "cell_type": "markdown",
   "id": "f5f4a566-212f-4d65-8a26-bc6989573de8",
   "metadata": {},
   "source": [
    "# Q16. Two groups of students are given different study materials to prepare for a test. The first group (n1 =30) has a mean score of 80 with a standard deviation of 10, and the second group (n2 = 40) has a meanscore of 75 with a standard deviation of 8. Test the hypothesis that the population means for the twogroups are equal with a significance level of 0.01."
   ]
  },
  {
   "cell_type": "code",
   "execution_count": null,
   "id": "0b8703f8-4022-4cb7-b15c-054d0e1a4411",
   "metadata": {},
   "outputs": [],
   "source": []
  },
  {
   "cell_type": "markdown",
   "id": "f9b72569-aa32-4fca-bec3-ac1a03b84734",
   "metadata": {},
   "source": [
    "# Q17. A marketing company wants to estimate the average number of ads watched by viewers during a TV program. They take a random sample of 50 viewers and find that the sample mean is 4 with a standarddeviation of 1.5. Estimate the population mean with a 99% confidence interval."
   ]
  },
  {
   "cell_type": "raw",
   "id": "d2ffe36d-39e9-4795-b21f-fbfc474d0d6c",
   "metadata": {},
   "source": [
    "n = 50 x = 4 std =1.5 ci =99 (table value  = 2.576)\n",
    "x+- z *s/root n\n",
    "4 +- 2.576 * 1.5 / root 2"
   ]
  }
 ],
 "metadata": {
  "kernelspec": {
   "display_name": "Python 3 (ipykernel)",
   "language": "python",
   "name": "python3"
  },
  "language_info": {
   "codemirror_mode": {
    "name": "ipython",
    "version": 3
   },
   "file_extension": ".py",
   "mimetype": "text/x-python",
   "name": "python",
   "nbconvert_exporter": "python",
   "pygments_lexer": "ipython3",
   "version": "3.10.8"
  }
 },
 "nbformat": 4,
 "nbformat_minor": 5
}
